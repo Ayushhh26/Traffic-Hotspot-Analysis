{
 "cells": [
  {
   "cell_type": "code",
   "execution_count": 3,
   "metadata": {},
   "outputs": [
    {
     "name": "stdout",
     "output_type": "stream",
     "text": [
      "Defaulting to user installation because normal site-packages is not writeable\n",
      "Requirement already satisfied: tweepy in c:\\users\\krish\\appdata\\roaming\\python\\python310\\site-packages (4.10.1)\n",
      "Requirement already satisfied: requests-oauthlib<2,>=1.2.0 in c:\\users\\krish\\appdata\\roaming\\python\\python310\\site-packages (from tweepy) (1.3.1)\n",
      "Requirement already satisfied: requests<3,>=2.27.0 in c:\\users\\krish\\appdata\\roaming\\python\\python310\\site-packages (from tweepy) (2.27.1)\n",
      "Requirement already satisfied: oauthlib<4,>=3.2.0 in c:\\users\\krish\\appdata\\roaming\\python\\python310\\site-packages (from tweepy) (3.2.0)\n",
      "Requirement already satisfied: charset-normalizer~=2.0.0 in c:\\users\\krish\\appdata\\roaming\\python\\python310\\site-packages (from requests<3,>=2.27.0->tweepy) (2.0.12)\n",
      "Requirement already satisfied: certifi>=2017.4.17 in c:\\users\\krish\\appdata\\roaming\\python\\python310\\site-packages (from requests<3,>=2.27.0->tweepy) (2021.10.8)\n",
      "Requirement already satisfied: idna<4,>=2.5 in c:\\users\\krish\\appdata\\roaming\\python\\python310\\site-packages (from requests<3,>=2.27.0->tweepy) (3.3)\n",
      "Requirement already satisfied: urllib3<1.27,>=1.21.1 in c:\\users\\krish\\appdata\\roaming\\python\\python310\\site-packages (from requests<3,>=2.27.0->tweepy) (1.26.9)\n"
     ]
    },
    {
     "name": "stderr",
     "output_type": "stream",
     "text": [
      "WARNING: You are using pip version 22.0.4; however, version 22.3.1 is available.\n",
      "You should consider upgrading via the 'C:\\Program Files\\Python310\\python.exe -m pip install --upgrade pip' command.\n"
     ]
    },
    {
     "name": "stdout",
     "output_type": "stream",
     "text": [
      "Defaulting to user installation because normal site-packages is not writeable\n",
      "Requirement already satisfied: pandas_profiling in c:\\users\\krish\\appdata\\roaming\\python\\python310\\site-packages (3.3.0)\n",
      "Requirement already satisfied: visions[type_image_path]==0.7.5 in c:\\users\\krish\\appdata\\roaming\\python\\python310\\site-packages (from pandas_profiling) (0.7.5)\n",
      "Requirement already satisfied: htmlmin==0.1.12 in c:\\users\\krish\\appdata\\roaming\\python\\python310\\site-packages (from pandas_profiling) (0.1.12)\n",
      "Requirement already satisfied: PyYAML<6.1,>=5.0.0 in c:\\users\\krish\\appdata\\roaming\\python\\python310\\site-packages (from pandas_profiling) (6.0)\n",
      "Requirement already satisfied: joblib~=1.1.0 in c:\\users\\krish\\appdata\\roaming\\python\\python310\\site-packages (from pandas_profiling) (1.1.0)\n",
      "Requirement already satisfied: missingno<0.6,>=0.4.2 in c:\\users\\krish\\appdata\\roaming\\python\\python310\\site-packages (from pandas_profiling) (0.5.1)\n",
      "Requirement already satisfied: scipy<1.10,>=1.4.1 in c:\\users\\krish\\appdata\\roaming\\python\\python310\\site-packages (from pandas_profiling) (1.9.1)\n",
      "Requirement already satisfied: matplotlib<3.6,>=3.2 in c:\\users\\krish\\appdata\\roaming\\python\\python310\\site-packages (from pandas_profiling) (3.5.3)\n",
      "Requirement already satisfied: pydantic<1.10,>=1.8.1 in c:\\users\\krish\\appdata\\roaming\\python\\python310\\site-packages (from pandas_profiling) (1.9.2)\n",
      "Requirement already satisfied: multimethod<1.9,>=1.4 in c:\\users\\krish\\appdata\\roaming\\python\\python310\\site-packages (from pandas_profiling) (1.8)\n",
      "Requirement already satisfied: statsmodels<0.14,>=0.13.2 in c:\\users\\krish\\appdata\\roaming\\python\\python310\\site-packages (from pandas_profiling) (0.13.2)\n",
      "Requirement already satisfied: requests<2.29,>=2.24.0 in c:\\users\\krish\\appdata\\roaming\\python\\python310\\site-packages (from pandas_profiling) (2.27.1)\n",
      "Requirement already satisfied: numpy<1.24,>=1.16.0 in c:\\users\\krish\\appdata\\roaming\\python\\python310\\site-packages (from pandas_profiling) (1.22.3)\n",
      "Requirement already satisfied: tqdm<4.65,>=4.48.2 in c:\\users\\krish\\appdata\\roaming\\python\\python310\\site-packages (from pandas_profiling) (4.64.1)\n",
      "Requirement already satisfied: seaborn<0.12,>=0.10.1 in c:\\users\\krish\\appdata\\roaming\\python\\python310\\site-packages (from pandas_profiling) (0.11.2)\n",
      "Requirement already satisfied: phik<0.13,>=0.11.1 in c:\\users\\krish\\appdata\\roaming\\python\\python310\\site-packages (from pandas_profiling) (0.12.2)\n",
      "Requirement already satisfied: jinja2<3.2,>=2.11.1 in c:\\users\\krish\\appdata\\roaming\\python\\python310\\site-packages (from pandas_profiling) (3.1.1)\n",
      "Requirement already satisfied: pandas!=1.4.0,<1.5,>1.1 in c:\\users\\krish\\appdata\\roaming\\python\\python310\\site-packages (from pandas_profiling) (1.4.2)\n",
      "Requirement already satisfied: tangled-up-in-unicode==0.2.0 in c:\\users\\krish\\appdata\\roaming\\python\\python310\\site-packages (from pandas_profiling) (0.2.0)\n",
      "Requirement already satisfied: networkx>=2.4 in c:\\users\\krish\\appdata\\roaming\\python\\python310\\site-packages (from visions[type_image_path]==0.7.5->pandas_profiling) (2.8.6)\n",
      "Requirement already satisfied: attrs>=19.3.0 in c:\\users\\krish\\appdata\\roaming\\python\\python310\\site-packages (from visions[type_image_path]==0.7.5->pandas_profiling) (21.4.0)\n",
      "Requirement already satisfied: Pillow in c:\\users\\krish\\appdata\\roaming\\python\\python310\\site-packages (from visions[type_image_path]==0.7.5->pandas_profiling) (9.1.0)\n",
      "Requirement already satisfied: imagehash in c:\\users\\krish\\appdata\\roaming\\python\\python310\\site-packages (from visions[type_image_path]==0.7.5->pandas_profiling) (4.3.0)\n",
      "Requirement already satisfied: MarkupSafe>=2.0 in c:\\users\\krish\\appdata\\roaming\\python\\python310\\site-packages (from jinja2<3.2,>=2.11.1->pandas_profiling) (2.1.1)\n",
      "Requirement already satisfied: python-dateutil>=2.7 in c:\\users\\krish\\appdata\\roaming\\python\\python310\\site-packages (from matplotlib<3.6,>=3.2->pandas_profiling) (2.8.2)\n",
      "Requirement already satisfied: cycler>=0.10 in c:\\users\\krish\\appdata\\roaming\\python\\python310\\site-packages (from matplotlib<3.6,>=3.2->pandas_profiling) (0.11.0)\n",
      "Requirement already satisfied: pyparsing>=2.2.1 in c:\\users\\krish\\appdata\\roaming\\python\\python310\\site-packages (from matplotlib<3.6,>=3.2->pandas_profiling) (3.0.7)\n",
      "Requirement already satisfied: packaging>=20.0 in c:\\users\\krish\\appdata\\roaming\\python\\python310\\site-packages (from matplotlib<3.6,>=3.2->pandas_profiling) (21.3)\n",
      "Requirement already satisfied: fonttools>=4.22.0 in c:\\users\\krish\\appdata\\roaming\\python\\python310\\site-packages (from matplotlib<3.6,>=3.2->pandas_profiling) (4.32.0)\n",
      "Requirement already satisfied: kiwisolver>=1.0.1 in c:\\users\\krish\\appdata\\roaming\\python\\python310\\site-packages (from matplotlib<3.6,>=3.2->pandas_profiling) (1.4.2)\n",
      "Requirement already satisfied: pytz>=2020.1 in c:\\users\\krish\\appdata\\roaming\\python\\python310\\site-packages (from pandas!=1.4.0,<1.5,>1.1->pandas_profiling) (2022.1)\n",
      "Requirement already satisfied: typing-extensions>=3.7.4.3 in c:\\users\\krish\\appdata\\roaming\\python\\python310\\site-packages (from pydantic<1.10,>=1.8.1->pandas_profiling) (4.3.0)\n",
      "Requirement already satisfied: idna<4,>=2.5 in c:\\users\\krish\\appdata\\roaming\\python\\python310\\site-packages (from requests<2.29,>=2.24.0->pandas_profiling) (3.3)\n",
      "Requirement already satisfied: certifi>=2017.4.17 in c:\\users\\krish\\appdata\\roaming\\python\\python310\\site-packages (from requests<2.29,>=2.24.0->pandas_profiling) (2021.10.8)\n",
      "Requirement already satisfied: charset-normalizer~=2.0.0 in c:\\users\\krish\\appdata\\roaming\\python\\python310\\site-packages (from requests<2.29,>=2.24.0->pandas_profiling) (2.0.12)\n",
      "Requirement already satisfied: urllib3<1.27,>=1.21.1 in c:\\users\\krish\\appdata\\roaming\\python\\python310\\site-packages (from requests<2.29,>=2.24.0->pandas_profiling) (1.26.9)\n",
      "Requirement already satisfied: patsy>=0.5.2 in c:\\users\\krish\\appdata\\roaming\\python\\python310\\site-packages (from statsmodels<0.14,>=0.13.2->pandas_profiling) (0.5.2)\n",
      "Requirement already satisfied: colorama in c:\\users\\krish\\appdata\\roaming\\python\\python310\\site-packages (from tqdm<4.65,>=4.48.2->pandas_profiling) (0.4.4)\n",
      "Requirement already satisfied: six in c:\\users\\krish\\appdata\\roaming\\python\\python310\\site-packages (from patsy>=0.5.2->statsmodels<0.14,>=0.13.2->pandas_profiling) (1.16.0)\n",
      "Requirement already satisfied: PyWavelets in c:\\users\\krish\\appdata\\roaming\\python\\python310\\site-packages (from imagehash->visions[type_image_path]==0.7.5->pandas_profiling) (1.4.1)\n"
     ]
    },
    {
     "name": "stderr",
     "output_type": "stream",
     "text": [
      "WARNING: You are using pip version 22.0.4; however, version 22.3.1 is available.\n",
      "You should consider upgrading via the 'C:\\Program Files\\Python310\\python.exe -m pip install --upgrade pip' command.\n"
     ]
    }
   ],
   "source": [
    "!pip install tweepy\n",
    "!pip install pandas_profiling\n",
    "import numpy as np # linear algebra\n",
    "import pandas as pd # data processing, CSV file I/O (e.g. pd.read_csv)\n",
    "import tweepy as tw # To extarct the twitter data\n",
    "from pandas_profiling import ProfileReport\n",
    "from tqdm import tqdm"
   ]
  },
  {
   "cell_type": "code",
   "execution_count": 1,
   "metadata": {},
   "outputs": [],
   "source": [
    "consumer_api_key = '3isdZDtVJnLAsiPXL5AAaHQqI'\n",
    "consumer_api_secret = 'PaophiJhlQ24qYRFsZLhQSyKvn1gfKLc7uFC7kDPyNo5aaBmU2'"
   ]
  },
  {
   "cell_type": "code",
   "execution_count": 2,
   "metadata": {},
   "outputs": [
    {
     "ename": "NameError",
     "evalue": "name 'tw' is not defined",
     "output_type": "error",
     "traceback": [
      "\u001b[1;31m---------------------------------------------------------------------------\u001b[0m",
      "\u001b[1;31mNameError\u001b[0m                                 Traceback (most recent call last)",
      "\u001b[1;32mc:\\Users\\krish\\Desktop\\SEM-5\\MPR\\tweepy.ipynb Cell 3\u001b[0m in \u001b[0;36m<cell line: 1>\u001b[1;34m()\u001b[0m\n\u001b[1;32m----> <a href='vscode-notebook-cell:/c%3A/Users/krish/Desktop/SEM-5/MPR/tweepy.ipynb#W2sZmlsZQ%3D%3D?line=0'>1</a>\u001b[0m auth \u001b[39m=\u001b[39m tw\u001b[39m.\u001b[39mOAuthHandler(consumer_api_key, consumer_api_secret)\n\u001b[0;32m      <a href='vscode-notebook-cell:/c%3A/Users/krish/Desktop/SEM-5/MPR/tweepy.ipynb#W2sZmlsZQ%3D%3D?line=1'>2</a>\u001b[0m api \u001b[39m=\u001b[39m tw\u001b[39m.\u001b[39mAPI(auth, wait_on_rate_limit\u001b[39m=\u001b[39m\u001b[39mTrue\u001b[39;00m)\n",
      "\u001b[1;31mNameError\u001b[0m: name 'tw' is not defined"
     ]
    }
   ],
   "source": [
    "auth = tw.OAuthHandler(consumer_api_key, consumer_api_secret)\n",
    "api = tw.API(auth, wait_on_rate_limit=True)"
   ]
  },
  {
   "cell_type": "markdown",
   "metadata": {},
   "source": [
    "getting tweets from MTPHeretoHelp i.e is not retweets"
   ]
  },
  {
   "cell_type": "code",
   "execution_count": 5,
   "metadata": {},
   "outputs": [],
   "source": [
    "\n",
    "\n",
    "\n",
    "search_words = \"from:MTPHereToHelp -filter:retweets\" #Type you keywork here instead of #covidvaccine\n",
    "#You can fix a time frame with the date since and date until parameters\n",
    "# Collect tweets\n",
    "tweets_copy = tw.Cursor(api.search_tweets,\n",
    "              q=search_words,\n",
    "              lang=\"en\",\n",
    "              count = 5000 ,\n",
    "              result_type = \"recent\",     \n",
    "              ).items(5000) #We instruct the cursor to return maximum of 2000000 tweets"
   ]
  },
  {
   "cell_type": "code",
   "execution_count": 6,
   "metadata": {},
   "outputs": [
    {
     "name": "stderr",
     "output_type": "stream",
     "text": [
      "1009it [00:09, 107.77it/s]\n"
     ]
    }
   ],
   "source": [
    "tweets = []\n",
    "for tweet in tqdm(tweets_copy) :\n",
    "    tweets.append(tweet)"
   ]
  },
  {
   "cell_type": "code",
   "execution_count": 28,
   "metadata": {},
   "outputs": [
    {
     "name": "stdout",
     "output_type": "stream",
     "text": [
      "New tweets retrieved: 867\n"
     ]
    }
   ],
   "source": [
    "print(f\"New tweets retrieved: {len(tweets_copy)}\")"
   ]
  },
  {
   "cell_type": "code",
   "execution_count": 29,
   "metadata": {},
   "outputs": [],
   "source": [
    "\n",
    "df = pd.DataFrame(data=[tweet.text for tweet in tweets], columns=['Tweets'])\n",
    "df['id'] = np.array([tweet.id for tweet in tweets])\n",
    "df['len'] = np.array([len(tweet.text) for tweet in tweets])\n",
    "df['date'] = np.array([str(tweet.created_at).split(\" \")[0] for tweet in tweets])\n",
    "df['time'] = np.array([str(tweet.created_at).split(\" \")[1].split(\"+\")[0] for tweet in tweets])\n",
    "df['source'] = np.array([tweet.source for tweet in tweets])\n",
    "df['likes'] = np.array([tweet.favorite_count for tweet in tweets])\n",
    "df['retweets'] = np.array([tweet.retweet_count for tweet in tweets])\n",
    "\n",
    "\n"
   ]
  },
  {
   "cell_type": "markdown",
   "metadata": {},
   "source": [
    "Extracting twitter data from Hashtag Traffic "
   ]
  },
  {
   "cell_type": "code",
   "execution_count": 30,
   "metadata": {},
   "outputs": [
    {
     "data": {
      "text/html": [
       "<div>\n",
       "<style scoped>\n",
       "    .dataframe tbody tr th:only-of-type {\n",
       "        vertical-align: middle;\n",
       "    }\n",
       "\n",
       "    .dataframe tbody tr th {\n",
       "        vertical-align: top;\n",
       "    }\n",
       "\n",
       "    .dataframe thead th {\n",
       "        text-align: right;\n",
       "    }\n",
       "</style>\n",
       "<table border=\"1\" class=\"dataframe\">\n",
       "  <thead>\n",
       "    <tr style=\"text-align: right;\">\n",
       "      <th></th>\n",
       "      <th>Tweets</th>\n",
       "      <th>id</th>\n",
       "      <th>len</th>\n",
       "      <th>date</th>\n",
       "      <th>time</th>\n",
       "      <th>source</th>\n",
       "      <th>likes</th>\n",
       "      <th>retweets</th>\n",
       "    </tr>\n",
       "  </thead>\n",
       "  <tbody>\n",
       "    <tr>\n",
       "      <th>0</th>\n",
       "      <td>@KawaTweets We have escalated your request wit...</td>\n",
       "      <td>1578767797739745280</td>\n",
       "      <td>94</td>\n",
       "      <td>2022-10-08</td>\n",
       "      <td>15:22:29</td>\n",
       "      <td>Twitter Web App</td>\n",
       "      <td>0</td>\n",
       "      <td>0</td>\n",
       "    </tr>\n",
       "    <tr>\n",
       "      <th>1</th>\n",
       "      <td>@its_yashchauhan We have forwarded your concer...</td>\n",
       "      <td>1578766466694156289</td>\n",
       "      <td>99</td>\n",
       "      <td>2022-10-08</td>\n",
       "      <td>15:17:12</td>\n",
       "      <td>Twitter Web App</td>\n",
       "      <td>0</td>\n",
       "      <td>0</td>\n",
       "    </tr>\n",
       "    <tr>\n",
       "      <th>2</th>\n",
       "      <td>@DeveshParadkar We have forwarded your concern...</td>\n",
       "      <td>1578764441734516737</td>\n",
       "      <td>93</td>\n",
       "      <td>2022-10-08</td>\n",
       "      <td>15:09:09</td>\n",
       "      <td>Twitter Web App</td>\n",
       "      <td>2</td>\n",
       "      <td>0</td>\n",
       "    </tr>\n",
       "    <tr>\n",
       "      <th>3</th>\n",
       "      <td>@darpandalal We have informed concern Traffic ...</td>\n",
       "      <td>1578763782335369219</td>\n",
       "      <td>78</td>\n",
       "      <td>2022-10-08</td>\n",
       "      <td>15:06:32</td>\n",
       "      <td>Twitter Web App</td>\n",
       "      <td>0</td>\n",
       "      <td>0</td>\n",
       "    </tr>\n",
       "    <tr>\n",
       "      <th>4</th>\n",
       "      <td>@JsJayeshgshah We have escalated your request ...</td>\n",
       "      <td>1578759561510801409</td>\n",
       "      <td>99</td>\n",
       "      <td>2022-10-08</td>\n",
       "      <td>14:49:46</td>\n",
       "      <td>Twitter Web App</td>\n",
       "      <td>0</td>\n",
       "      <td>0</td>\n",
       "    </tr>\n",
       "  </tbody>\n",
       "</table>\n",
       "</div>"
      ],
      "text/plain": [
       "                                              Tweets                   id  \\\n",
       "0  @KawaTweets We have escalated your request wit...  1578767797739745280   \n",
       "1  @its_yashchauhan We have forwarded your concer...  1578766466694156289   \n",
       "2  @DeveshParadkar We have forwarded your concern...  1578764441734516737   \n",
       "3  @darpandalal We have informed concern Traffic ...  1578763782335369219   \n",
       "4  @JsJayeshgshah We have escalated your request ...  1578759561510801409   \n",
       "\n",
       "   len        date      time           source  likes  retweets  \n",
       "0   94  2022-10-08  15:22:29  Twitter Web App      0         0  \n",
       "1   99  2022-10-08  15:17:12  Twitter Web App      0         0  \n",
       "2   93  2022-10-08  15:09:09  Twitter Web App      2         0  \n",
       "3   78  2022-10-08  15:06:32  Twitter Web App      0         0  \n",
       "4   99  2022-10-08  14:49:46  Twitter Web App      0         0  "
      ]
     },
     "execution_count": 30,
     "metadata": {},
     "output_type": "execute_result"
    }
   ],
   "source": [
    "df.head()"
   ]
  },
  {
   "cell_type": "code",
   "execution_count": 31,
   "metadata": {},
   "outputs": [],
   "source": [
    "\n",
    "df.to_csv('MTPHereToHelp2.csv')\n"
   ]
  }
 ],
 "metadata": {
  "kernelspec": {
   "display_name": "Python 3.10.1 64-bit",
   "language": "python",
   "name": "python3"
  },
  "language_info": {
   "codemirror_mode": {
    "name": "ipython",
    "version": 3
   },
   "file_extension": ".py",
   "mimetype": "text/x-python",
   "name": "python",
   "nbconvert_exporter": "python",
   "pygments_lexer": "ipython3",
   "version": "3.10.1"
  },
  "orig_nbformat": 4,
  "vscode": {
   "interpreter": {
    "hash": "369f2c481f4da34e4445cda3fffd2e751bd1c4d706f27375911949ba6bb62e1c"
   }
  }
 },
 "nbformat": 4,
 "nbformat_minor": 2
}
