{
 "cells": [
  {
   "cell_type": "code",
   "execution_count": 16,
   "metadata": {},
   "outputs": [],
   "source": [
    "import pandas as pd \n",
    "import numpy as np "
   ]
  },
  {
   "cell_type": "code",
   "execution_count": 24,
   "metadata": {},
   "outputs": [],
   "source": [
    "df = pd.read_csv('MTPHereToHelp3.csv')"
   ]
  },
  {
   "cell_type": "code",
   "execution_count": 26,
   "metadata": {},
   "outputs": [],
   "source": [
    "df['location'] = np.array([str(locations).lower() for locations in df['location'].values])"
   ]
  },
  {
   "cell_type": "code",
   "execution_count": 27,
   "metadata": {},
   "outputs": [
    {
     "data": {
      "text/html": [
       "<div>\n",
       "<style scoped>\n",
       "    .dataframe tbody tr th:only-of-type {\n",
       "        vertical-align: middle;\n",
       "    }\n",
       "\n",
       "    .dataframe tbody tr th {\n",
       "        vertical-align: top;\n",
       "    }\n",
       "\n",
       "    .dataframe thead th {\n",
       "        text-align: right;\n",
       "    }\n",
       "</style>\n",
       "<table border=\"1\" class=\"dataframe\">\n",
       "  <thead>\n",
       "    <tr style=\"text-align: right;\">\n",
       "      <th></th>\n",
       "      <th>Unnamed: 0.1</th>\n",
       "      <th>Unnamed: 0</th>\n",
       "      <th>Tweets</th>\n",
       "      <th>id</th>\n",
       "      <th>len</th>\n",
       "      <th>date</th>\n",
       "      <th>time</th>\n",
       "      <th>source</th>\n",
       "      <th>likes</th>\n",
       "      <th>retweets</th>\n",
       "      <th>location</th>\n",
       "    </tr>\n",
       "  </thead>\n",
       "  <tbody>\n",
       "    <tr>\n",
       "      <th>0</th>\n",
       "      <td>0</td>\n",
       "      <td>0</td>\n",
       "      <td>@KawaTweets We have escalated your request wit...</td>\n",
       "      <td>1578767797739745280</td>\n",
       "      <td>94</td>\n",
       "      <td>2022-10-08</td>\n",
       "      <td>15:22:29</td>\n",
       "      <td>Twitter Web App</td>\n",
       "      <td>0</td>\n",
       "      <td>0</td>\n",
       "      <td>dahisar</td>\n",
       "    </tr>\n",
       "    <tr>\n",
       "      <th>1</th>\n",
       "      <td>1</td>\n",
       "      <td>1</td>\n",
       "      <td>@its_yashchauhan We have forwarded your concer...</td>\n",
       "      <td>1578766466694156289</td>\n",
       "      <td>99</td>\n",
       "      <td>2022-10-08</td>\n",
       "      <td>15:17:12</td>\n",
       "      <td>Twitter Web App</td>\n",
       "      <td>0</td>\n",
       "      <td>0</td>\n",
       "      <td>santacruz</td>\n",
       "    </tr>\n",
       "    <tr>\n",
       "      <th>2</th>\n",
       "      <td>2</td>\n",
       "      <td>2</td>\n",
       "      <td>@DeveshParadkar We have forwarded your concern...</td>\n",
       "      <td>1578764441734516737</td>\n",
       "      <td>93</td>\n",
       "      <td>2022-10-08</td>\n",
       "      <td>15:09:09</td>\n",
       "      <td>Twitter Web App</td>\n",
       "      <td>2</td>\n",
       "      <td>0</td>\n",
       "      <td>malad</td>\n",
       "    </tr>\n",
       "    <tr>\n",
       "      <th>3</th>\n",
       "      <td>3</td>\n",
       "      <td>3</td>\n",
       "      <td>@darpandalal We have informed concern Traffic ...</td>\n",
       "      <td>1578763782335369219</td>\n",
       "      <td>78</td>\n",
       "      <td>2022-10-08</td>\n",
       "      <td>15:06:32</td>\n",
       "      <td>Twitter Web App</td>\n",
       "      <td>0</td>\n",
       "      <td>0</td>\n",
       "      <td>concern</td>\n",
       "    </tr>\n",
       "    <tr>\n",
       "      <th>4</th>\n",
       "      <td>4</td>\n",
       "      <td>4</td>\n",
       "      <td>@JsJayeshgshah We have escalated your request ...</td>\n",
       "      <td>1578759561510801409</td>\n",
       "      <td>99</td>\n",
       "      <td>2022-10-08</td>\n",
       "      <td>14:49:46</td>\n",
       "      <td>Twitter Web App</td>\n",
       "      <td>0</td>\n",
       "      <td>0</td>\n",
       "      <td>kandivali</td>\n",
       "    </tr>\n",
       "  </tbody>\n",
       "</table>\n",
       "</div>"
      ],
      "text/plain": [
       "   Unnamed: 0.1  Unnamed: 0  \\\n",
       "0             0           0   \n",
       "1             1           1   \n",
       "2             2           2   \n",
       "3             3           3   \n",
       "4             4           4   \n",
       "\n",
       "                                              Tweets                   id  \\\n",
       "0  @KawaTweets We have escalated your request wit...  1578767797739745280   \n",
       "1  @its_yashchauhan We have forwarded your concer...  1578766466694156289   \n",
       "2  @DeveshParadkar We have forwarded your concern...  1578764441734516737   \n",
       "3  @darpandalal We have informed concern Traffic ...  1578763782335369219   \n",
       "4  @JsJayeshgshah We have escalated your request ...  1578759561510801409   \n",
       "\n",
       "   len        date      time           source  likes  retweets   location  \n",
       "0   94  2022-10-08  15:22:29  Twitter Web App      0         0    dahisar  \n",
       "1   99  2022-10-08  15:17:12  Twitter Web App      0         0  santacruz  \n",
       "2   93  2022-10-08  15:09:09  Twitter Web App      2         0      malad  \n",
       "3   78  2022-10-08  15:06:32  Twitter Web App      0         0    concern  \n",
       "4   99  2022-10-08  14:49:46  Twitter Web App      0         0  kandivali  "
      ]
     },
     "execution_count": 27,
     "metadata": {},
     "output_type": "execute_result"
    }
   ],
   "source": [
    "df.head()"
   ]
  },
  {
   "cell_type": "code",
   "execution_count": 4,
   "metadata": {},
   "outputs": [],
   "source": [
    "df['location'] = np.array([str(tweet).split(\"Traffic Division\")[0].split(' ')[-2] for tweet in df['Tweets'].values])"
   ]
  },
  {
   "cell_type": "code",
   "execution_count": 28,
   "metadata": {},
   "outputs": [],
   "source": [
    "df.to_csv('MTPHereToHelp3.csv')"
   ]
  },
  {
   "cell_type": "code",
   "execution_count": null,
   "metadata": {},
   "outputs": [],
   "source": []
  }
 ],
 "metadata": {
  "kernelspec": {
   "display_name": "Python 3.10.5 64-bit",
   "language": "python",
   "name": "python3"
  },
  "language_info": {
   "codemirror_mode": {
    "name": "ipython",
    "version": 3
   },
   "file_extension": ".py",
   "mimetype": "text/x-python",
   "name": "python",
   "nbconvert_exporter": "python",
   "pygments_lexer": "ipython3",
   "version": "3.10.5"
  },
  "orig_nbformat": 4,
  "vscode": {
   "interpreter": {
    "hash": "26de051ba29f2982a8de78e945f0abaf191376122a1563185a90213a26c5da77"
   }
  }
 },
 "nbformat": 4,
 "nbformat_minor": 2
}
